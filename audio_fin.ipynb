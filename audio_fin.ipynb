{
 "cells": [
  {
   "cell_type": "code",
   "execution_count": 69,
   "source": [
    "import os\n",
    "from moviepy.editor import *\n",
    "\n",
    "mp4_file = r\"/home/kang7734/MultimodalEx/Realfile/0013.MP4\"\n",
    "mp3_file = r\"/home/kang7734/MultimodalEx/Realfile/0013.mp3\"\n",
    "video = VideoFileClip(mp4_file)\n",
    "audioclip = video.audio\n",
    "audioclip.write_audiofile(mp3_file)\n",
    "\n",
    "audioclip.close()\n",
    "video.close()"
   ],
   "outputs": [
    {
     "output_type": "stream",
     "name": "stderr",
     "text": [
      "chunk:   5%|▌         | 68/1237 [00:00<00:01, 679.79it/s, now=None]"
     ]
    },
    {
     "output_type": "stream",
     "name": "stdout",
     "text": [
      "MoviePy - Writing audio in /home/kang7734/MultimodalEx/Realfile/0013.mp3\n"
     ]
    },
    {
     "output_type": "stream",
     "name": "stderr",
     "text": []
    },
    {
     "output_type": "stream",
     "name": "stdout",
     "text": [
      "MoviePy - Done.\n"
     ]
    }
   ],
   "metadata": {}
  },
  {
   "cell_type": "code",
   "execution_count": 70,
   "source": [
    "from pydub import AudioSegment\n",
    "\n",
    "audseg = AudioSegment.from_mp3(\"/home/kang7734/MultimodalEx/Realfile/0013.mp3\")\n",
    "audseg.export(\"/home/kang7734/MultimodalEx/Realfile/0013.wav\",format = \"wav\")"
   ],
   "outputs": [
    {
     "output_type": "execute_result",
     "data": {
      "text/plain": [
       "<_io.BufferedRandom name='/home/kang7734/MultimodalEx/Realfile/0013.wav'>"
      ]
     },
     "metadata": {},
     "execution_count": 70
    }
   ],
   "metadata": {}
  },
  {
   "cell_type": "code",
   "execution_count": 17,
   "source": [
    "import speech_recognition as sr\n",
    "\n",
    "recognizer = sr.Recognizer()\n",
    "\n",
    "clip1 = sr.AudioFile(\"/home/kang7734/MultimodalEx/Realfile/0013.wav\")\n",
    "\n",
    "li =[]\n",
    "with clip1 as source:\n",
    "    for i in range(1,30):\n",
    "        recognizer.adjust_for_ambient_noise(source, duration=0.01)\n",
    "        i = recognizer.record(source,offset=0.00001,duration=10)\n",
    "        try:\n",
    "            print(recognizer.recognize_google(audio_data= i, language=\"ko-KR\"))\n",
    "        except:\n",
    "            pass"
   ],
   "outputs": [
    {
     "output_type": "stream",
     "name": "stdout",
     "text": [
      "커피 맛있다 나 다이어트 하려고 저번에도 말하지 않고 손님 저번에는 저기\n",
      "오늘은 그걸로 저녁 3시 하는 거야 누가 관종이야 다이어트는 조금씩 자주 먹는게 좋다고 하더라고 이거 먹고 도망 단박스 노래\n",
      "맥 컷\n"
     ]
    }
   ],
   "metadata": {}
  },
  {
   "cell_type": "code",
   "execution_count": 22,
   "source": [
    "import speech_recognition as sr\n",
    "\n",
    "recognizer = sr.Recognizer()\n",
    "\n",
    "clip1 = sr.AudioFile(\"/home/kang7734/MultimodalEx/Realfile/0030.wav\")\n",
    "\n",
    "li =[]\n",
    "with clip1 as source:\n",
    "    recognizer.adjust_for_ambient_noise(source, duration=10)\n",
    "    i = recognizer.record(source)\n",
    "    try:\n",
    "        print(recognizer.recognize_google(audio_data= i, language=\"ko-KR\"))\n",
    "    except:\n",
    "        pass"
   ],
   "outputs": [
    {
     "output_type": "stream",
     "name": "stdout",
     "text": [
      "네 아이스 아메리카노에 참 추가해 주세요네 잠시만 기다려 주세요 준비해 드릴게요 여기 아메리카노에 사진 몇 개 들어가요 들어갔는데 근데 이거 왜 이래요 커피 맛이 이상한 거 없잖아요 추가했는데 저희가 그 커피가 부드러운 거 싫어서 그렇게 느낄 수도 있는데 부드러운 마시라고요 차 추가 안 해 주신 거 아니에요 제가 문자 넣어 드릴게요 죄송하다는 말 못 해 주셔야 하는 거 아닌가 죄송합니다 금방 다시 해 드릴게요\n"
     ]
    }
   ],
   "metadata": {}
  },
  {
   "cell_type": "code",
   "execution_count": null,
   "source": [],
   "outputs": [],
   "metadata": {}
  }
 ],
 "metadata": {
  "orig_nbformat": 4,
  "kernelspec": {
   "name": "tensorflow",
   "display_name": "[tensorflow]",
   "language": "python"
  }
 },
 "nbformat": 4,
 "nbformat_minor": 2
}